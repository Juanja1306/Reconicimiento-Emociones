{
 "cells": [
  {
   "cell_type": "code",
   "execution_count": 1,
   "metadata": {},
   "outputs": [
    {
     "name": "stdout",
     "output_type": "stream",
     "text": [
      "Usando dispositivo: cuda\n"
     ]
    }
   ],
   "source": [
    "import torch\n",
    "\n",
    "# Seleccionamos dispositivo CUDA si está disponible\n",
    "device = torch.device(\"cuda\" if torch.cuda.is_available() else \"cpu\")\n",
    "print(\"Usando dispositivo:\", device)"
   ]
  },
  {
   "cell_type": "code",
   "execution_count": 9,
   "metadata": {},
   "outputs": [],
   "source": [
    "import os, shutil, glob\n",
    "\n",
    "src = r\"C:\\Users\\juanj\\Desktop\\Reconocimineto-AnimalesDomesticos-CNN-Explicabilidad\\data\\images\"\n",
    "for filepath in glob.glob(os.path.join(src, \"*.jpg\")):\n",
    "    breed = os.path.basename(filepath).split(\"_\")[0]\n",
    "    dst_dir = os.path.join(src, breed)\n",
    "    os.makedirs(dst_dir, exist_ok=True)\n",
    "    shutil.move(filepath, os.path.join(dst_dir, os.path.basename(filepath)))\n"
   ]
  },
  {
   "cell_type": "code",
   "execution_count": 17,
   "metadata": {},
   "outputs": [],
   "source": [
    "from torchvision import datasets, transforms\n",
    "from torch.utils.data import DataLoader, random_split\n",
    "\n",
    "# Transformaciones básicas\n",
    "transform = transforms.Compose([\n",
    "    transforms.Resize((224,224)),\n",
    "    transforms.ToTensor(),\n",
    "    transforms.Normalize(mean=[0.485,0.456,0.406],\n",
    "                         std =[0.229,0.224,0.225])\n",
    "])\n",
    "\n",
    "# Carga completa\n",
    "dataset = datasets.ImageFolder(\n",
    "    root=r\"C:\\Users\\juanj\\Desktop\\Reconocimineto-AnimalesDomesticos-CNN-Explicabilidad\\data\\images\",\n",
    "    transform=transform\n",
    ")\n",
    "n = len(dataset)\n",
    "n_train = int(n * 0.8)\n",
    "n_val   = n - n_train\n",
    "\n",
    "train_ds, val_ds = random_split(dataset, [n_train, n_val], \n",
    "                                generator=torch.Generator().manual_seed(42))\n",
    "\n",
    "train_loader = DataLoader(train_ds, batch_size=32, shuffle=True, num_workers=4, pin_memory=True)\n",
    "val_loader   = DataLoader(val_ds,   batch_size=32, shuffle=False, num_workers=4, pin_memory=True)\n"
   ]
  },
  {
   "cell_type": "code",
   "execution_count": 18,
   "metadata": {},
   "outputs": [
    {
     "name": "stdout",
     "output_type": "stream",
     "text": [
      "Detectadas 35 clases\n"
     ]
    }
   ],
   "source": [
    "num_classes = len(dataset.classes)  # ImageFolder guarda la lista de carpetas en .classes\n",
    "print(f\"Detectadas {num_classes} clases\")"
   ]
  },
  {
   "cell_type": "code",
   "execution_count": 19,
   "metadata": {},
   "outputs": [
    {
     "name": "stderr",
     "output_type": "stream",
     "text": [
      "c:\\Users\\juanj\\Desktop\\Reconocimineto-AnimalesDomesticos-CNN-Explicabilidad\\.venv2\\Lib\\site-packages\\torchvision\\models\\_utils.py:208: UserWarning: The parameter 'pretrained' is deprecated since 0.13 and may be removed in the future, please use 'weights' instead.\n",
      "  warnings.warn(\n",
      "c:\\Users\\juanj\\Desktop\\Reconocimineto-AnimalesDomesticos-CNN-Explicabilidad\\.venv2\\Lib\\site-packages\\torchvision\\models\\_utils.py:223: UserWarning: Arguments other than a weight enum or `None` for 'weights' are deprecated since 0.13 and may be removed in the future. The current behavior is equivalent to passing `weights=ResNet50_Weights.IMAGENET1K_V1`. You can also use `weights=ResNet50_Weights.DEFAULT` to get the most up-to-date weights.\n",
      "  warnings.warn(msg)\n"
     ]
    }
   ],
   "source": [
    "import torch.nn as nn\n",
    "from torchvision.models import resnet50\n",
    "\n",
    "class FineTuneResNet50(nn.Module):\n",
    "    def __init__(self, num_classes=37):\n",
    "        super().__init__()\n",
    "        self.backbone = resnet50(pretrained=True)\n",
    "        # Congelamos todas las capas base\n",
    "        for param in self.backbone.parameters():\n",
    "            param.requires_grad = False\n",
    "\n",
    "        # Reemplazamos la \"fc\" con nuestra cabeza:\n",
    "        in_features = self.backbone.fc.in_features\n",
    "        self.backbone.fc = nn.Sequential(\n",
    "            nn.Linear(in_features, 512),\n",
    "            nn.ReLU(inplace=True),\n",
    "            nn.Dropout(0.3),\n",
    "            nn.Linear(512, 256),\n",
    "            nn.ReLU(inplace=True),\n",
    "            nn.Dropout(0.3),\n",
    "            nn.Linear(256, num_classes)\n",
    "        )\n",
    "\n",
    "    def forward(self, x):\n",
    "        return self.backbone(x)\n",
    "\n",
    "model = FineTuneResNet50(num_classes=num_classes).to(device)\n"
   ]
  },
  {
   "cell_type": "code",
   "execution_count": 20,
   "metadata": {},
   "outputs": [],
   "source": [
    "import torch.optim as optim\n",
    "\n",
    "criterion = nn.CrossEntropyLoss()\n",
    "optimizer = optim.Adam(model.backbone.fc.parameters(), lr=1e-4)\n"
   ]
  },
  {
   "cell_type": "code",
   "execution_count": 21,
   "metadata": {},
   "outputs": [
    {
     "ename": "TypeError",
     "evalue": "evaluate() takes 4 positional arguments but 5 were given",
     "output_type": "error",
     "traceback": [
      "\u001b[31m---------------------------------------------------------------------------\u001b[39m",
      "\u001b[31mTypeError\u001b[39m                                 Traceback (most recent call last)",
      "\u001b[36mCell\u001b[39m\u001b[36m \u001b[39m\u001b[32mIn[21]\u001b[39m\u001b[32m, line 30\u001b[39m\n\u001b[32m     28\u001b[39m \u001b[38;5;28;01mfor\u001b[39;00m epoch \u001b[38;5;129;01min\u001b[39;00m \u001b[38;5;28mrange\u001b[39m(\u001b[32m1\u001b[39m, \u001b[32m11\u001b[39m):\n\u001b[32m     29\u001b[39m     train_loss, train_acc = train_one_epoch(model, train_loader, criterion, optimizer, device)\n\u001b[32m---> \u001b[39m\u001b[32m30\u001b[39m     val_loss, val_acc     = \u001b[43mevaluate\u001b[49m\u001b[43m(\u001b[49m\u001b[43mmodel\u001b[49m\u001b[43m,\u001b[49m\u001b[43m \u001b[49m\u001b[43mval_loader\u001b[49m\u001b[43m,\u001b[49m\u001b[43m   \u001b[49m\u001b[43mcriterion\u001b[49m\u001b[43m,\u001b[49m\u001b[43m \u001b[49m\u001b[43moptimizer\u001b[49m\u001b[43m,\u001b[49m\u001b[43m \u001b[49m\u001b[43mdevice\u001b[49m\u001b[43m)\u001b[49m\n\u001b[32m     31\u001b[39m     \u001b[38;5;28mprint\u001b[39m(\u001b[33mf\u001b[39m\u001b[33m\"\u001b[39m\u001b[33mEpoch \u001b[39m\u001b[38;5;132;01m{\u001b[39;00mepoch\u001b[38;5;132;01m:\u001b[39;00m\u001b[33m02d\u001b[39m\u001b[38;5;132;01m}\u001b[39;00m\u001b[33m | Train: \u001b[39m\u001b[38;5;132;01m{\u001b[39;00mtrain_loss\u001b[38;5;132;01m:\u001b[39;00m\u001b[33m.3f\u001b[39m\u001b[38;5;132;01m}\u001b[39;00m\u001b[33m, \u001b[39m\u001b[38;5;132;01m{\u001b[39;00mtrain_acc\u001b[38;5;132;01m:\u001b[39;00m\u001b[33m.3%\u001b[39m\u001b[38;5;132;01m}\u001b[39;00m\u001b[33m | Val: \u001b[39m\u001b[38;5;132;01m{\u001b[39;00mval_loss\u001b[38;5;132;01m:\u001b[39;00m\u001b[33m.3f\u001b[39m\u001b[38;5;132;01m}\u001b[39;00m\u001b[33m, \u001b[39m\u001b[38;5;132;01m{\u001b[39;00mval_acc\u001b[38;5;132;01m:\u001b[39;00m\u001b[33m.3%\u001b[39m\u001b[38;5;132;01m}\u001b[39;00m\u001b[33m\"\u001b[39m)\n",
      "\u001b[31mTypeError\u001b[39m: evaluate() takes 4 positional arguments but 5 were given"
     ]
    }
   ],
   "source": [
    "# === CELDA: Entrenamiento y guardado de checkpoint para explicabilidad ===\n",
    "import torch, os\n",
    "\n",
    "# --- 1) Definir funciones de entrenamiento/evaluación (ya importaste model, train_loader, val_loader, criterion, optimizer, device) ---\n",
    "def train_one_epoch(model, loader, criterion, optimizer, device):\n",
    "    model.train()\n",
    "    total_loss, total_correct = 0, 0\n",
    "    for images, labels in loader:\n",
    "        images, labels = images.to(device), labels.to(device)\n",
    "        optimizer.zero_grad()\n",
    "        outputs = model(images)\n",
    "        loss = criterion(outputs, labels)\n",
    "        loss.backward()\n",
    "        optimizer.step()\n",
    "        total_loss   += loss.item() * images.size(0)\n",
    "        total_correct+= (outputs.argmax(1) == labels).sum().item()\n",
    "    return total_loss / len(loader.dataset), total_correct / len(loader.dataset)\n",
    "\n",
    "def evaluate(model, loader, criterion, device):\n",
    "    model.eval()\n",
    "    total_loss, total_correct = 0, 0\n",
    "    with torch.no_grad():\n",
    "        for images, labels in loader:\n",
    "            images, labels = images.to(device), labels.to(device)\n",
    "            outputs = model(images)\n",
    "            loss = criterion(outputs, labels)\n",
    "            total_loss   += loss.item() * images.size(0)\n",
    "            total_correct+= (outputs.argmax(1) == labels).sum().item()\n",
    "    return total_loss / len(loader.dataset), total_correct / len(loader.dataset)\n",
    "\n",
    "# --- 2) Bucle de entrenamiento ---\n",
    "num_epochs = 10\n",
    "for epoch in range(1, num_epochs + 1):\n",
    "    train_loss, train_acc = train_one_epoch(model, train_loader, criterion, optimizer, device)\n",
    "    val_loss,   val_acc   = evaluate(model,   val_loader,   criterion, optimizer, device)\n",
    "    print(f\"Epoch {epoch:02d} | \"\n",
    "          f\"Train: {train_loss:.3f}, {train_acc:.2%} | \"\n",
    "          f\"Val:   {val_loss:.3f}, {val_acc:.2%}\")\n",
    "\n",
    "# --- 3) Guardar checkpoint completo ---\n",
    "ckpt = {\n",
    "    \"model_state_dict\":     model.state_dict(),\n",
    "    \"optimizer_state_dict\": optimizer.state_dict(),\n",
    "    \"num_classes\":          num_classes,\n",
    "    \"class_to_idx\":         dataset.class_to_idx,\n",
    "    \"transform\": {\n",
    "        \"resize\":            (224, 224),\n",
    "        \"normalize_mean\":    [0.485, 0.456, 0.406],\n",
    "        \"normalize_std\":     [0.229, 0.224, 0.225]\n",
    "    },\n",
    "    \"split\": {\n",
    "        \"seed\":              42,\n",
    "        \"train_val_ratio\":   0.8\n",
    "    }\n",
    "}\n",
    "os.makedirs(\"checkpoints\", exist_ok=True)\n",
    "torch.save(ckpt, \"checkpoints/resnet50_animals_exp.pth\")\n",
    "print(\"✅ Entrenamiento completado y checkpoint guardado en checkpoints/resnet50_animals_exp.pth\")\n"
   ]
  },
  {
   "cell_type": "code",
   "execution_count": null,
   "metadata": {},
   "outputs": [],
   "source": [
    "# === CELDA: Guardar todo lo necesario para Captum ===\n",
    "import torch, os, json\n",
    "\n",
    "# Directorio de checkpoints\n",
    "ckpt_dir = \"checkpoints\"\n",
    "os.makedirs(ckpt_dir, exist_ok=True)\n",
    "ckpt_path = os.path.join(ckpt_dir, \"resnet50_animals_exp.pth\")\n",
    "\n",
    "# Recopilar metadata y estados\n",
    "checkpoint = {\n",
    "    \"model_state_dict\": model.state_dict(),\n",
    "    \"optimizer_state_dict\": optimizer.state_dict(),\n",
    "    \"num_classes\": num_classes,\n",
    "    \"class_to_idx\": dataset.class_to_idx,\n",
    "    \"transform\": {\n",
    "        \"resize\": (224, 224),\n",
    "        \"normalize_mean\": [0.485, 0.456, 0.406],\n",
    "        \"normalize_std\":  [0.229, 0.224, 0.225]\n",
    "    },\n",
    "    \"split_seed\": 42,\n",
    "    \"train_val_ratio\": 0.8\n",
    "}\n",
    "\n",
    "# Guardar checkpoint\n",
    "torch.save(checkpoint, ckpt_path)\n",
    "print(f\"🔖 Checkpoint guardado en: {ckpt_path}\")\n"
   ]
  }
 ],
 "metadata": {
  "kernelspec": {
   "display_name": ".venv2",
   "language": "python",
   "name": "python3"
  },
  "language_info": {
   "codemirror_mode": {
    "name": "ipython",
    "version": 3
   },
   "file_extension": ".py",
   "mimetype": "text/x-python",
   "name": "python",
   "nbconvert_exporter": "python",
   "pygments_lexer": "ipython3",
   "version": "3.12.6"
  }
 },
 "nbformat": 4,
 "nbformat_minor": 2
}
