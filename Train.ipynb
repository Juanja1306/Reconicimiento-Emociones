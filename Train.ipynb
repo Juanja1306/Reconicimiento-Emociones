{
 "cells": [
  {
   "cell_type": "code",
   "execution_count": 38,
   "metadata": {},
   "outputs": [
    {
     "name": "stdout",
     "output_type": "stream",
     "text": [
      "Usando dispositivo: cuda\n"
     ]
    }
   ],
   "source": [
    "import torch\n",
    "\n",
    "# Seleccionamos dispositivo CUDA si está disponible\n",
    "device = torch.device(\"cuda\" if torch.cuda.is_available() else \"cpu\")\n",
    "print(\"Usando dispositivo:\", device)"
   ]
  },
  {
   "cell_type": "markdown",
   "metadata": {},
   "source": [
    "---"
   ]
  },
  {
   "cell_type": "code",
   "execution_count": 39,
   "metadata": {},
   "outputs": [],
   "source": [
    "from torchvision import datasets, transforms\n",
    "from torch.utils.data import DataLoader, random_split\n",
    "\n",
    "# Transformaciones básicas\n",
    "transform = transforms.Compose([\n",
    "    transforms.Resize((224,224)),\n",
    "    transforms.ToTensor(),\n",
    "    transforms.Normalize(mean=[0.485,0.456,0.406],\n",
    "                         std =[0.229,0.224,0.225])\n",
    "])\n",
    "\n",
    "# Carga completa\n",
    "dataset = datasets.ImageFolder(\n",
    "    root=r\"C:\\Users\\juanj\\Desktop\\Reconocimineto-AnimalesDomesticos-CNN-Explicabilidad\\data\\images\",\n",
    "    transform=transform\n",
    ")\n",
    "n = len(dataset)\n",
    "n_train = int(n * 0.8)\n",
    "n_val   = n - n_train\n",
    "\n",
    "train_ds, val_ds = random_split(dataset, [n_train, n_val], \n",
    "                                generator=torch.Generator().manual_seed(42))\n",
    "\n",
    "train_loader = DataLoader(train_ds, batch_size=32, shuffle=True, num_workers=4, pin_memory=True)\n",
    "val_loader   = DataLoader(val_ds,   batch_size=32, shuffle=False, num_workers=4, pin_memory=True)\n"
   ]
  },
  {
   "cell_type": "code",
   "execution_count": 40,
   "metadata": {},
   "outputs": [
    {
     "name": "stdout",
     "output_type": "stream",
     "text": [
      "Detectadas 35 clases\n"
     ]
    }
   ],
   "source": [
    "num_classes = len(dataset.classes)  # ImageFolder guarda la lista de carpetas en .classes\n",
    "print(f\"Detectadas {num_classes} clases\")"
   ]
  },
  {
   "cell_type": "code",
   "execution_count": 41,
   "metadata": {},
   "outputs": [],
   "source": [
    "import torch.nn as nn\n",
    "from torchvision.models import resnet50\n",
    "\n",
    "class FineTuneResNet50(nn.Module):\n",
    "    def __init__(self, num_classes=37):\n",
    "        super().__init__()\n",
    "        self.backbone = resnet50(pretrained=True)\n",
    "        # Congelamos todas las capas base\n",
    "        for param in self.backbone.parameters():\n",
    "            param.requires_grad = False\n",
    "\n",
    "        # Reemplazamos la \"fc\" con nuestra cabeza:\n",
    "        in_features = self.backbone.fc.in_features\n",
    "        self.backbone.fc = nn.Sequential(\n",
    "            nn.Linear(in_features, 512),\n",
    "            nn.ReLU(inplace=True),\n",
    "            nn.Dropout(0.3),\n",
    "            nn.Linear(512, 256),\n",
    "            nn.ReLU(inplace=True),\n",
    "            nn.Dropout(0.3),\n",
    "            nn.Linear(256, num_classes)\n",
    "        )\n",
    "\n",
    "    def forward(self, x):\n",
    "        return self.backbone(x)\n",
    "\n",
    "model = FineTuneResNet50(num_classes=num_classes).to(device)\n"
   ]
  },
  {
   "cell_type": "code",
   "execution_count": 42,
   "metadata": {},
   "outputs": [],
   "source": [
    "import torch.optim as optim\n",
    "\n",
    "criterion = nn.CrossEntropyLoss()\n",
    "optimizer = optim.Adam(model.backbone.fc.parameters(), lr=1e-4)\n"
   ]
  },
  {
   "cell_type": "code",
   "execution_count": null,
   "metadata": {},
   "outputs": [
    {
     "name": "stderr",
     "output_type": "stream",
     "text": [
      "Epoch 1/10 [Train]:   0%|          | 0/185 [00:00<?, ?batch/s]"
     ]
    }
   ],
   "source": [
    "import torch, os\n",
    "from tqdm import tqdm\n",
    "\n",
    "# — Ya deberías tener: model, train_loader, val_loader, criterion, optimizer, device, dataset —\n",
    "\n",
    "# 1) Si aún los necesitas, saca num_classes y class_to_idx del ImageFolder:\n",
    "num_classes  = len(dataset.classes)\n",
    "class_to_idx = dataset.class_to_idx\n",
    "\n",
    "# 2) Funciones de entrenamiento/evaluación\n",
    "def train_one_epoch(model, loader, criterion, optimizer, device):\n",
    "    model.train()\n",
    "    total_loss, total_correct = 0, 0\n",
    "    for images, labels in loader:\n",
    "        images, labels = images.to(device), labels.to(device)\n",
    "        optimizer.zero_grad()\n",
    "        outputs = model(images)\n",
    "        loss = criterion(outputs, labels)\n",
    "        loss.backward()\n",
    "        optimizer.step()\n",
    "        total_loss   += loss.item() * images.size(0)\n",
    "        total_correct+= (outputs.argmax(1) == labels).sum().item()\n",
    "    return total_loss / len(loader.dataset), total_correct / len(loader.dataset)\n",
    "\n",
    "def evaluate(model, loader, criterion, device):\n",
    "    model.eval()\n",
    "    total_loss, total_correct = 0, 0\n",
    "    with torch.no_grad():\n",
    "        for images, labels in loader:\n",
    "            images, labels = images.to(device), labels.to(device)\n",
    "            outputs = model(images)\n",
    "            loss = criterion(outputs, labels)\n",
    "            total_loss   += loss.item() * images.size(0)\n",
    "            total_correct+= (outputs.argmax(1) == labels).sum().item()\n",
    "    return total_loss / len(loader.dataset), total_correct / len(loader.dataset)\n",
    "\n",
    "# 3) Bucle de entrenamiento\n",
    "num_epochs = 10\n",
    "for epoch in range(1, num_epochs + 1):\n",
    "    # Entrenamiento\n",
    "    train_loop = tqdm(train_loader, desc=f\"Epoch {epoch}/{num_epochs} [Train]\", unit=\"batch\")\n",
    "    total_loss, total_correct = 0, 0\n",
    "    model.train()\n",
    "    for images, labels in train_loop:\n",
    "        images, labels = images.to(device), labels.to(device)\n",
    "        optimizer.zero_grad()\n",
    "        outputs = model(images)\n",
    "        loss = criterion(outputs, labels)\n",
    "        loss.backward()\n",
    "        optimizer.step()\n",
    "\n",
    "        total_loss   += loss.item() * images.size(0)\n",
    "        total_correct+= (outputs.argmax(1) == labels).sum().item()\n",
    "\n",
    "        # Actualiza el postfix para ver loss y accuracy parcial\n",
    "        avg_loss = total_loss / ((train_loop.n + 1) * train_loader.batch_size)\n",
    "        avg_acc  = total_correct / ((train_loop.n + 1) * train_loader.batch_size)\n",
    "        train_loop.set_postfix(loss=f\"{avg_loss:.4f}\", acc=f\"{avg_acc:.2%}\")\n",
    "\n",
    "    # Validación\n",
    "    val_loop = tqdm(val_loader, desc=f\"Epoch {epoch}/{num_epochs} [Val]  \", unit=\"batch\")\n",
    "    total_loss, total_correct = 0, 0\n",
    "    model.eval()\n",
    "    with torch.no_grad():\n",
    "        for images, labels in val_loop:\n",
    "            images, labels = images.to(device), labels.to(device)\n",
    "            outputs = model(images)\n",
    "            loss = criterion(outputs, labels)\n",
    "\n",
    "            total_loss   += loss.item() * images.size(0)\n",
    "            total_correct+= (outputs.argmax(1) == labels).sum().item()\n",
    "\n",
    "            avg_loss = total_loss / ((val_loop.n + 1) * val_loader.batch_size)\n",
    "            avg_acc  = total_correct / ((val_loop.n + 1) * val_loader.batch_size)\n",
    "            val_loop.set_postfix(loss=f\"{avg_loss:.4f}\", acc=f\"{avg_acc:.2%}\")\n",
    "\n",
    "    # Al final de la época, imprime resumen\n",
    "    train_loss = total_loss / len(train_loader.dataset)\n",
    "    train_acc  = total_correct / len(train_loader.dataset)\n",
    "    val_loss   = total_loss   / len(val_loader.dataset)\n",
    "    val_acc    = total_correct / len(val_loader.dataset)\n",
    "    print(f\"→ Epoch {epoch:02d} | Train: {train_loss:.3f}, {train_acc:.2%} | Val: {val_loss:.3f}, {val_acc:.2%}\")\n",
    "\n",
    "# 4) Guardar checkpoint completo\n",
    "ckpt = {\n",
    "    \"model_state_dict\":     model.state_dict(),\n",
    "    \"optimizer_state_dict\": optimizer.state_dict(),\n",
    "    \"num_classes\":          num_classes,\n",
    "    \"class_to_idx\":         class_to_idx,\n",
    "    \"transform\": {\n",
    "        \"resize\":            (224, 224),\n",
    "        \"normalize_mean\":    [0.485, 0.456, 0.406],\n",
    "        \"normalize_std\":     [0.229, 0.224, 0.225]\n",
    "    },\n",
    "    \"split\": {\n",
    "        \"seed\":              42,\n",
    "        \"train_val_ratio\":   0.8\n",
    "    }\n",
    "}\n",
    "\n",
    "os.makedirs(\"checkpoints\", exist_ok=True)\n",
    "torch.save(ckpt, \"checkpoints/resnet50_animals_exp.pth\")\n",
    "print(\"✅ Entrenamiento completado y checkpoint guardado en checkpoints/resnet50_animals_exp.pth\")\n"
   ]
  }
 ],
 "metadata": {
  "kernelspec": {
   "display_name": ".venv2",
   "language": "python",
   "name": "python3"
  },
  "language_info": {
   "codemirror_mode": {
    "name": "ipython",
    "version": 3
   },
   "file_extension": ".py",
   "mimetype": "text/x-python",
   "name": "python",
   "nbconvert_exporter": "python",
   "pygments_lexer": "ipython3",
   "version": "3.12.6"
  }
 },
 "nbformat": 4,
 "nbformat_minor": 2
}
