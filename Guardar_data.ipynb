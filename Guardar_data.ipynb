{
 "cells": [
  {
   "cell_type": "code",
   "execution_count": null,
   "metadata": {},
   "outputs": [],
   "source": [
    "import os, shutil, glob\n",
    "\n",
    "src = r\"C:\\Users\\juanj\\Desktop\\Reconocimineto-AnimalesDomesticos-CNN-Explicabilidad\\data\\images\"\n",
    "for filepath in glob.glob(os.path.join(src, \"*.jpg\")):\n",
    "    breed = os.path.basename(filepath).split(\"_\")[0]\n",
    "    dst_dir = os.path.join(src, breed)\n",
    "    os.makedirs(dst_dir, exist_ok=True)\n",
    "    shutil.move(filepath, os.path.join(dst_dir, os.path.basename(filepath)))\n"
   ]
  }
 ],
 "metadata": {
  "kernelspec": {
   "display_name": ".venv2",
   "language": "python",
   "name": "python3"
  },
  "language_info": {
   "name": "python",
   "version": "3.12.6"
  }
 },
 "nbformat": 4,
 "nbformat_minor": 2
}
