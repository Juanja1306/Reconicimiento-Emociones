{
 "cells": [
  {
   "cell_type": "code",
   "execution_count": 1,
   "metadata": {},
   "outputs": [],
   "source": [
    "# ───────────── Imports ─────────────\n",
    "import kagglehub\n",
    "import pandas as pd\n",
    "import numpy as np\n",
    "from pathlib import Path\n",
    "\n",
    "import torch\n",
    "import torch.nn as nn\n",
    "import torch.optim as optim\n",
    "import torch.nn.functional as F\n",
    "\n",
    "from torch.utils.data import Dataset, DataLoader\n",
    "from torchvision import transforms\n",
    "from PIL import Image\n",
    "import cv2\n",
    "\n",
    "from ultralytics import YOLO\n",
    "from tqdm.notebook import tqdm\n"
   ]
  },
  {
   "cell_type": "code",
   "execution_count": 2,
   "metadata": {},
   "outputs": [],
   "source": [
    "# ─────────── 1) Descargar Dataset ───────────\n",
    "path        = kagglehub.dataset_download(\"mstjebashazida/affectnet\")\n",
    "archive_dir = Path(path) / \"archive (3)\"\n",
    "train_dir   = archive_dir / \"Train\"\n",
    "test_dir    = archive_dir / \"Test\""
   ]
  },
  {
   "cell_type": "code",
   "execution_count": 3,
   "metadata": {},
   "outputs": [],
   "source": [
    "# ─────────── 2) Cargar y mapear etiquetas ───────────\n",
    "labels_df = pd.read_csv(archive_dir / \"labels.csv\")\n",
    "emotion_map = {\n",
    "    0: \"anger\",   1: \"contempt\", 2: \"disgust\", 3: \"fear\",\n",
    "    4: \"happy\",   5: \"neutral\", 6: \"sad\",     7: \"surprise\"\n",
    "}\n",
    "label2idx = {v: k for k, v in emotion_map.items()}\n",
    "labels_df[\"label_idx\"] = labels_df[\"label\"].map(label2idx)"
   ]
  },
  {
   "cell_type": "code",
   "execution_count": 4,
   "metadata": {},
   "outputs": [
    {
     "data": {
      "text/html": [
       "<div>\n",
       "<style scoped>\n",
       "    .dataframe tbody tr th:only-of-type {\n",
       "        vertical-align: middle;\n",
       "    }\n",
       "\n",
       "    .dataframe tbody tr th {\n",
       "        vertical-align: top;\n",
       "    }\n",
       "\n",
       "    .dataframe thead th {\n",
       "        text-align: right;\n",
       "    }\n",
       "</style>\n",
       "<table border=\"1\" class=\"dataframe\">\n",
       "  <thead>\n",
       "    <tr style=\"text-align: right;\">\n",
       "      <th></th>\n",
       "      <th>Unnamed: 0</th>\n",
       "      <th>pth</th>\n",
       "      <th>label</th>\n",
       "      <th>relFCs</th>\n",
       "      <th>label_idx</th>\n",
       "    </tr>\n",
       "  </thead>\n",
       "  <tbody>\n",
       "    <tr>\n",
       "      <th>0</th>\n",
       "      <td>0</td>\n",
       "      <td>anger/image0000006.jpg</td>\n",
       "      <td>surprise</td>\n",
       "      <td>0.873142</td>\n",
       "      <td>7</td>\n",
       "    </tr>\n",
       "    <tr>\n",
       "      <th>1</th>\n",
       "      <td>1</td>\n",
       "      <td>anger/image0000060.jpg</td>\n",
       "      <td>anger</td>\n",
       "      <td>0.852311</td>\n",
       "      <td>0</td>\n",
       "    </tr>\n",
       "    <tr>\n",
       "      <th>2</th>\n",
       "      <td>2</td>\n",
       "      <td>anger/image0000061.jpg</td>\n",
       "      <td>anger</td>\n",
       "      <td>0.800957</td>\n",
       "      <td>0</td>\n",
       "    </tr>\n",
       "    <tr>\n",
       "      <th>3</th>\n",
       "      <td>3</td>\n",
       "      <td>anger/image0000066.jpg</td>\n",
       "      <td>disgust</td>\n",
       "      <td>0.843079</td>\n",
       "      <td>2</td>\n",
       "    </tr>\n",
       "    <tr>\n",
       "      <th>4</th>\n",
       "      <td>4</td>\n",
       "      <td>anger/image0000106.jpg</td>\n",
       "      <td>anger</td>\n",
       "      <td>0.849108</td>\n",
       "      <td>0</td>\n",
       "    </tr>\n",
       "    <tr>\n",
       "      <th>...</th>\n",
       "      <td>...</td>\n",
       "      <td>...</td>\n",
       "      <td>...</td>\n",
       "      <td>...</td>\n",
       "      <td>...</td>\n",
       "    </tr>\n",
       "    <tr>\n",
       "      <th>28170</th>\n",
       "      <td>28170</td>\n",
       "      <td>surprise/image0034960.jpg</td>\n",
       "      <td>surprise</td>\n",
       "      <td>0.825263</td>\n",
       "      <td>7</td>\n",
       "    </tr>\n",
       "    <tr>\n",
       "      <th>28171</th>\n",
       "      <td>28171</td>\n",
       "      <td>surprise/image0034961.jpg</td>\n",
       "      <td>surprise</td>\n",
       "      <td>0.738646</td>\n",
       "      <td>7</td>\n",
       "    </tr>\n",
       "    <tr>\n",
       "      <th>28172</th>\n",
       "      <td>28172</td>\n",
       "      <td>surprise/image0034966.jpg</td>\n",
       "      <td>surprise</td>\n",
       "      <td>0.774524</td>\n",
       "      <td>7</td>\n",
       "    </tr>\n",
       "    <tr>\n",
       "      <th>28173</th>\n",
       "      <td>28173</td>\n",
       "      <td>surprise/image0034973.jpg</td>\n",
       "      <td>neutral</td>\n",
       "      <td>0.766952</td>\n",
       "      <td>5</td>\n",
       "    </tr>\n",
       "    <tr>\n",
       "      <th>28174</th>\n",
       "      <td>28174</td>\n",
       "      <td>surprise/image0042075.jpg</td>\n",
       "      <td>disgust</td>\n",
       "      <td>0.832160</td>\n",
       "      <td>2</td>\n",
       "    </tr>\n",
       "  </tbody>\n",
       "</table>\n",
       "<p>28175 rows × 5 columns</p>\n",
       "</div>"
      ],
      "text/plain": [
       "       Unnamed: 0                        pth     label    relFCs  label_idx\n",
       "0               0     anger/image0000006.jpg  surprise  0.873142          7\n",
       "1               1     anger/image0000060.jpg     anger  0.852311          0\n",
       "2               2     anger/image0000061.jpg     anger  0.800957          0\n",
       "3               3     anger/image0000066.jpg   disgust  0.843079          2\n",
       "4               4     anger/image0000106.jpg     anger  0.849108          0\n",
       "...           ...                        ...       ...       ...        ...\n",
       "28170       28170  surprise/image0034960.jpg  surprise  0.825263          7\n",
       "28171       28171  surprise/image0034961.jpg  surprise  0.738646          7\n",
       "28172       28172  surprise/image0034966.jpg  surprise  0.774524          7\n",
       "28173       28173  surprise/image0034973.jpg   neutral  0.766952          5\n",
       "28174       28174  surprise/image0042075.jpg   disgust  0.832160          2\n",
       "\n",
       "[28175 rows x 5 columns]"
      ]
     },
     "execution_count": 4,
     "metadata": {},
     "output_type": "execute_result"
    }
   ],
   "source": [
    "labels_df"
   ]
  },
  {
   "cell_type": "code",
   "execution_count": 5,
   "metadata": {},
   "outputs": [
    {
     "data": {
      "image/png": "[encoded data removed]",
      "text/plain": [
       "<Figure size 1000x600 with 1 Axes>"
      ]
     },
     "metadata": {},
     "output_type": "display_data"
    }
   ],
   "source": [
    "import matplotlib.pyplot as plt\n",
    "\n",
    "# Asumiendo que labels_df ya está definido y contiene la columna 'relFCs'\n",
    "plt.figure(figsize=(10, 6))\n",
    "plt.hist(labels_df['relFCs'], bins=30, edgecolor='k', alpha=0.7)\n",
    "plt.xlabel('relFC')\n",
    "plt.ylabel('Frecuencia')\n",
    "plt.title('Histograma de relFCs de labels_df')\n",
    "plt.grid(True, linestyle='--', alpha=0.5)\n",
    "plt.show()"
   ]
  },
  {
   "cell_type": "code",
   "execution_count": 6,
   "metadata": {},
   "outputs": [
    {
     "name": "stdout",
     "output_type": "stream",
     "text": [
      "Número de imágenes con relFC > 0.8: 15840\n"
     ]
    }
   ],
   "source": [
    "# 1) Filtrar solo los relFCs > 0.8\n",
    "high_relFCs = labels_df[labels_df['relFCs'] > 0.8]\n",
    "\n",
    "# 2) Contar cuántas imágenes hay\n",
    "n_high = len(high_relFCs)\n",
    "print(f\"Número de imágenes con relFC > 0.8: {n_high}\")"
   ]
  },
  {
   "cell_type": "markdown",
   "metadata": {},
   "source": [
    "* Tenemos 8 emociones: anger, contempt, disgust, fear, happy, neutral, sad, surprise\n",
    "* Tenemos un indice de confianza de la emocion por imagen. Solo se usara la que tenga mayor al 90%"
   ]
  }
 ],
 "metadata": {
  "kernelspec": {
   "display_name": ".venv",
   "language": "python",
   "name": "python3"
  },
  "language_info": {
   "codemirror_mode": {
    "name": "ipython",
    "version": 3
   },
   "file_extension": ".py",
   "mimetype": "text/x-python",
   "name": "python",
   "nbconvert_exporter": "python",
   "pygments_lexer": "ipython3",
   "version": "3.12.6"
  }
 },
 "nbformat": 4,
 "nbformat_minor": 2
}
